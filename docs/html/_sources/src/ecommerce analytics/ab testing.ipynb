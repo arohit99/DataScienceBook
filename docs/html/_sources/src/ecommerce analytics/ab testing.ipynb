{
 "cells": [
  {
   "cell_type": "markdown",
   "metadata": {},
   "source": [
    "# Bayesian approach to A/B testing\n"
   ]
  },
  {
   "cell_type": "markdown",
   "metadata": {},
   "source": [
    "__Problem Statement__: Lets say, as part of an advertising campaign, the marketing team has come up with 2 versions to a flyer, to promote sign ups to our elite subsciption program. We want to conduct an experiment on a small group of users to decide which version gives us best results. A/B testing is a method to formulate the hypothesis, test it and build statistical evidence to support our findings. "
   ]
  },
  {
   "cell_type": "markdown",
   "metadata": {},
   "source": [
    "__Define Experiment__:\n",
    "\n",
    "`Null Hypothesis`: Assume 2 versions will create same impact. That is conversion rate for the two sample populations, each shown a variant of the flyer, will be equal.\n",
    "\n",
    "`Sample Size`: Number of users to whom the flyer was emailed to. We will run our experiment on 500 users. Each flyer will be sent to 500 randomly selected customers. No customer will be present in both the groups. \n",
    "\n",
    "`Observations`: Lets tabulate the conversions in each group\n",
    "\n",
    "| Version | Sample size | Conversions |\n",
    "| :--- | ---: | ---: |\n",
    "| 1 | 500 | 23 |\n",
    "| 2 | 500 | 27 |\n",
    "\n"
   ]
  },
  {
   "cell_type": "markdown",
   "metadata": {},
   "source": [
    "## Frequentist Approach"
   ]
  },
  {
   "cell_type": "code",
   "execution_count": 16,
   "metadata": {
    "tags": [
     "remove-output"
    ]
   },
   "outputs": [],
   "source": [
    "from statsmodels.stats.proportion import proportions_ztest, proportion_confint"
   ]
  },
  {
   "cell_type": "code",
   "execution_count": 7,
   "metadata": {},
   "outputs": [
    {
     "name": "stdout",
     "output_type": "stream",
     "text": [
      "z statistic: -0.58\n",
      "p-value: 0.562\n",
      "ci 95% for version 1: [0.028, 0.064]\n",
      "ci 95% for version 2: [0.034, 0.074]\n"
     ]
    }
   ],
   "source": [
    "z_stat, pval = proportions_ztest([23,27], nobs=500)\n",
    "\n",
    "(lower_v1, lower_v2), (upper_v1, upper_v2) = proportion_confint([23,27], nobs=500, alpha=0.05)\n",
    "\n",
    "print(f'z statistic: {z_stat:.2f}')\n",
    "print(f'p-value: {pval:.3f}')\n",
    "print(f'ci 95% for version 1: [{lower_v1:.3f}, {upper_v1:.3f}]')\n",
    "print(f'ci 95% for version 2: [{lower_v2:.3f}, {upper_v2:.3f}]')"
   ]
  },
  {
   "cell_type": "markdown",
   "metadata": {},
   "source": [
    "Since `p-value` way above acceptable threshold value of `0.05`, we cannot reject the null hypothesis."
   ]
  },
  {
   "cell_type": "markdown",
   "metadata": {},
   "source": [
    "## Bayesian Approach"
   ]
  },
  {
   "cell_type": "code",
   "execution_count": 12,
   "metadata": {},
   "outputs": [],
   "source": [
    "import numpy as np \n",
    "import scipy.stats \n",
    "import matplotlib.pyplot as plt\n",
    "np.random.seed(42)\n",
    "\n",
    "NumofSamples = 10000"
   ]
  },
  {
   "cell_type": "code",
   "execution_count": 15,
   "metadata": {},
   "outputs": [
    {
     "data": {
      "text/plain": [
       "0.7186"
      ]
     },
     "execution_count": 15,
     "metadata": {},
     "output_type": "execute_result"
    }
   ],
   "source": [
    "v1_samples = scipy.stats.beta.rvs(23,477,size=NumofSamples)\n",
    "v2_samples = scipy.stats.beta.rvs(27,473,size=NumofSamples)\n",
    "\n",
    "np.mean(v2_samples > v1_samples)"
   ]
  },
  {
   "cell_type": "markdown",
   "metadata": {},
   "source": [
    "We can say with 72% probability that Version 2 performs better than version 1. We can therefore reject the null hypothesis and pick version 2 flyer for the campaign."
   ]
  }
 ],
 "metadata": {
  "interpreter": {
   "hash": "b3ba2566441a7c06988d0923437866b63cedc61552a5af99d1f4fb67d367b25f"
  },
  "kernelspec": {
   "display_name": "Python 3",
   "language": "python",
   "name": "python3"
  },
  "language_info": {
   "codemirror_mode": {
    "name": "ipython",
    "version": 3
   },
   "file_extension": ".py",
   "mimetype": "text/x-python",
   "name": "python",
   "nbconvert_exporter": "python",
   "pygments_lexer": "ipython3",
   "version": "3.7.4"
  }
 },
 "nbformat": 4,
 "nbformat_minor": 4
}
