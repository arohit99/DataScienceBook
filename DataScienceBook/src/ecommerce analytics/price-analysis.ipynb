{
 "cells": [
  {
   "cell_type": "markdown",
   "metadata": {},
   "source": [
    "# Retail Price optimization using price elasticity"
   ]
  },
  {
   "cell_type": "code",
   "execution_count": 1,
   "metadata": {
    "tags": [
     "remove-output"
    ]
   },
   "outputs": [],
   "source": [
    "import numpy as np \n",
    "import pandas as pd "
   ]
  },
  {
   "cell_type": "code",
   "execution_count": null,
   "metadata": {
    "tags": [
     "remove-cell"
    ]
   },
   "outputs": [],
   "source": [
    "import os\n",
    "for dirname, _, filenames in os.walk('/kaggle/input'):\n",
    "    for filename in filenames:\n",
    "        print(os.path.join(dirname, filename))"
   ]
  },
  {
   "cell_type": "code",
   "execution_count": 3,
   "metadata": {
    "execution": {
     "iopub.execute_input": "2022-02-20T02:42:09.141889Z",
     "iopub.status.busy": "2022-02-20T02:42:09.141368Z",
     "iopub.status.idle": "2022-02-20T02:42:10.398873Z",
     "shell.execute_reply": "2022-02-20T02:42:10.398123Z",
     "shell.execute_reply.started": "2022-02-20T02:42:09.141841Z"
    }
   },
   "outputs": [],
   "source": [
    "df = pd.read_csv('../input/ecommerce-data/data.csv',encoding=\"ISO-8859-1\")"
   ]
  },
  {
   "cell_type": "markdown",
   "metadata": {},
   "source": [
    "## Data Exploration"
   ]
  },
  {
   "cell_type": "code",
   "execution_count": 4,
   "metadata": {
    "execution": {
     "iopub.execute_input": "2022-02-20T02:42:10.400419Z",
     "iopub.status.busy": "2022-02-20T02:42:10.400101Z",
     "iopub.status.idle": "2022-02-20T02:42:10.407327Z",
     "shell.execute_reply": "2022-02-20T02:42:10.406496Z",
     "shell.execute_reply.started": "2022-02-20T02:42:10.400380Z"
    }
   },
   "outputs": [],
   "source": [
    "def col_properties(df):\n",
    "        colsDf = pd.DataFrame( \n",
    "            {\n",
    "                'type':df.dtypes,\n",
    "                'NumofUnique':df.nunique(),\n",
    "                'NumofNulls':df.isnull().sum(),\n",
    "                'count':df.count()\n",
    "            }\n",
    "        ).reset_index()\n",
    "        colsDf['perc_nulls'] = round((colsDf['NumofNulls'] * 100)/len(df),2)\n",
    "        return colsDf"
   ]
  },
  {
   "cell_type": "code",
   "execution_count": 5,
   "metadata": {
    "execution": {
     "iopub.execute_input": "2022-02-20T02:42:10.409227Z",
     "iopub.status.busy": "2022-02-20T02:42:10.408773Z",
     "iopub.status.idle": "2022-02-20T02:42:11.313184Z",
     "shell.execute_reply": "2022-02-20T02:42:11.312337Z",
     "shell.execute_reply.started": "2022-02-20T02:42:10.409184Z"
    }
   },
   "outputs": [],
   "source": [
    "col_properties(df)"
   ]
  },
  {
   "cell_type": "code",
   "execution_count": 6,
   "metadata": {
    "execution": {
     "iopub.execute_input": "2022-02-20T02:42:11.316267Z",
     "iopub.status.busy": "2022-02-20T02:42:11.315972Z",
     "iopub.status.idle": "2022-02-20T02:42:14.365024Z",
     "shell.execute_reply": "2022-02-20T02:42:14.364189Z",
     "shell.execute_reply.started": "2022-02-20T02:42:11.316227Z"
    }
   },
   "outputs": [],
   "source": [
    "df = df.assign(CustomerID = df['CustomerID'].astype('str')) \\\n",
    "       .assign(InvoiceDate = df['InvoiceDate'].astype('datetime64[D]'))"
   ]
  },
  {
   "cell_type": "code",
   "execution_count": 7,
   "metadata": {
    "execution": {
     "iopub.execute_input": "2022-02-20T02:42:14.366994Z",
     "iopub.status.busy": "2022-02-20T02:42:14.366703Z",
     "iopub.status.idle": "2022-02-20T02:42:14.564249Z",
     "shell.execute_reply": "2022-02-20T02:42:14.563359Z",
     "shell.execute_reply.started": "2022-02-20T02:42:14.366944Z"
    }
   },
   "outputs": [],
   "source": [
    "df.where(df['Quantity'] < 10).head()"
   ]
  },
  {
   "cell_type": "markdown",
   "metadata": {},
   "source": [
    "Check for negative values in columns price, quantity"
   ]
  },
  {
   "cell_type": "code",
   "execution_count": 8,
   "metadata": {
    "execution": {
     "iopub.execute_input": "2022-02-20T02:42:14.566535Z",
     "iopub.status.busy": "2022-02-20T02:42:14.565842Z",
     "iopub.status.idle": "2022-02-20T02:42:14.889644Z",
     "shell.execute_reply": "2022-02-20T02:42:14.888833Z",
     "shell.execute_reply.started": "2022-02-20T02:42:14.566498Z"
    }
   },
   "outputs": [],
   "source": [
    "from collections import Counter\n",
    "\n",
    "is_qty_neg_dic = Counter(np.where(df['Quantity'] < 0,1,0))\n",
    "is_price_neg_dic = Counter(np.where(df['UnitPrice'] < 0,1,0))"
   ]
  },
  {
   "cell_type": "code",
   "execution_count": 9,
   "metadata": {
    "execution": {
     "iopub.execute_input": "2022-02-20T02:42:14.891075Z",
     "iopub.status.busy": "2022-02-20T02:42:14.890864Z",
     "iopub.status.idle": "2022-02-20T02:42:14.896960Z",
     "shell.execute_reply": "2022-02-20T02:42:14.896009Z",
     "shell.execute_reply.started": "2022-02-20T02:42:14.891051Z"
    }
   },
   "outputs": [],
   "source": [
    "is_price_neg_dic[0]/sum(is_qty_neg_dic.values())"
   ]
  },
  {
   "cell_type": "code",
   "execution_count": 10,
   "metadata": {
    "execution": {
     "iopub.execute_input": "2022-02-20T02:42:14.898740Z",
     "iopub.status.busy": "2022-02-20T02:42:14.898458Z",
     "iopub.status.idle": "2022-02-20T02:42:14.909675Z",
     "shell.execute_reply": "2022-02-20T02:42:14.909117Z",
     "shell.execute_reply.started": "2022-02-20T02:42:14.898701Z"
    }
   },
   "outputs": [],
   "source": [
    "is_qty_neg_dic[0]/sum(is_qty_neg_dic.values())"
   ]
  },
  {
   "cell_type": "markdown",
   "metadata": {},
   "source": [
    "99% of price values and 98% of quantity values are positive. We will filter out negatives as we are not sure how to interpret them "
   ]
  },
  {
   "cell_type": "code",
   "execution_count": 11,
   "metadata": {
    "execution": {
     "iopub.execute_input": "2022-02-20T02:42:14.912226Z",
     "iopub.status.busy": "2022-02-20T02:42:14.912027Z",
     "iopub.status.idle": "2022-02-20T02:42:14.981597Z",
     "shell.execute_reply": "2022-02-20T02:42:14.980557Z",
     "shell.execute_reply.started": "2022-02-20T02:42:14.912201Z"
    }
   },
   "outputs": [],
   "source": [
    "df = df[(df['Quantity'] > 0) & (df['UnitPrice'] > 0)]"
   ]
  },
  {
   "cell_type": "code",
   "execution_count": 12,
   "metadata": {
    "execution": {
     "iopub.execute_input": "2022-02-20T02:42:14.982873Z",
     "iopub.status.busy": "2022-02-20T02:42:14.982664Z",
     "iopub.status.idle": "2022-02-20T02:42:14.991310Z",
     "shell.execute_reply": "2022-02-20T02:42:14.990534Z",
     "shell.execute_reply.started": "2022-02-20T02:42:14.982848Z"
    }
   },
   "outputs": [],
   "source": [
    "df['ItemPrice'] = df['Quantity']* df['UnitPrice']"
   ]
  },
  {
   "cell_type": "markdown",
   "metadata": {},
   "source": [
    "## Product Dimentional metrics"
   ]
  },
  {
   "cell_type": "code",
   "execution_count": 13,
   "metadata": {
    "execution": {
     "iopub.execute_input": "2022-02-20T02:42:14.993250Z",
     "iopub.status.busy": "2022-02-20T02:42:14.992660Z",
     "iopub.status.idle": "2022-02-20T02:42:15.200138Z",
     "shell.execute_reply": "2022-02-20T02:42:15.199313Z",
     "shell.execute_reply.started": "2022-02-20T02:42:14.993204Z"
    }
   },
   "outputs": [],
   "source": [
    "prodDf = df.groupby('StockCode').agg(quantity = ('Quantity','sum')\n",
    "                                    , revenue = ('ItemPrice','sum')\n",
    "                                    , invoices = ('InvoiceNo','nunique') \n",
    "                                    , min_price = ('UnitPrice','min')\n",
    "                                    , max_price = ('UnitPrice','max') \n",
    "                                    , mean_price = ('UnitPrice','mean') \n",
    "                                    , price_variance = ('UnitPrice','var') \n",
    "                                    , price_stdev = ('UnitPrice','std') \n",
    "                                    ).reset_index()"
   ]
  },
  {
   "cell_type": "code",
   "execution_count": 14,
   "metadata": {
    "execution": {
     "iopub.execute_input": "2022-02-20T02:42:15.202434Z",
     "iopub.status.busy": "2022-02-20T02:42:15.201796Z",
     "iopub.status.idle": "2022-02-20T02:42:15.220906Z",
     "shell.execute_reply": "2022-02-20T02:42:15.220102Z",
     "shell.execute_reply.started": "2022-02-20T02:42:15.202394Z"
    }
   },
   "outputs": [],
   "source": [
    "prodDf.sort_values('revenue',ascending=False).head(10)"
   ]
  },
  {
   "cell_type": "markdown",
   "metadata": {},
   "source": [
    "Having developed some intuition on product metrics, lets pick few products and compute price elasticity"
   ]
  },
  {
   "cell_type": "code",
   "execution_count": 16,
   "metadata": {
    "execution": {
     "iopub.execute_input": "2022-02-20T02:42:15.276462Z",
     "iopub.status.busy": "2022-02-20T02:42:15.275942Z",
     "iopub.status.idle": "2022-02-20T02:42:15.280782Z",
     "shell.execute_reply": "2022-02-20T02:42:15.279889Z",
     "shell.execute_reply.started": "2022-02-20T02:42:15.276429Z"
    }
   },
   "outputs": [],
   "source": [
    "prodList = ['22423','47566','22086','79321','23284']"
   ]
  },
  {
   "cell_type": "code",
   "execution_count": 17,
   "metadata": {
    "execution": {
     "iopub.execute_input": "2022-02-20T02:42:15.282184Z",
     "iopub.status.busy": "2022-02-20T02:42:15.281983Z",
     "iopub.status.idle": "2022-02-20T02:42:15.351430Z",
     "shell.execute_reply": "2022-02-20T02:42:15.350264Z",
     "shell.execute_reply.started": "2022-02-20T02:42:15.282159Z"
    }
   },
   "outputs": [],
   "source": [
    "pdf = df[df['StockCode'].isin(prodList)]"
   ]
  },
  {
   "cell_type": "code",
   "execution_count": 18,
   "metadata": {
    "execution": {
     "iopub.execute_input": "2022-02-20T02:42:15.353806Z",
     "iopub.status.busy": "2022-02-20T02:42:15.353192Z",
     "iopub.status.idle": "2022-02-20T02:42:15.363014Z",
     "shell.execute_reply": "2022-02-20T02:42:15.362395Z",
     "shell.execute_reply.started": "2022-02-20T02:42:15.353761Z"
    }
   },
   "outputs": [],
   "source": [
    "pdf['StockCode'].value_counts()"
   ]
  },
  {
   "cell_type": "code",
   "execution_count": 19,
   "metadata": {
    "execution": {
     "iopub.execute_input": "2022-02-20T02:42:15.364998Z",
     "iopub.status.busy": "2022-02-20T02:42:15.364694Z",
     "iopub.status.idle": "2022-02-20T02:42:15.379010Z",
     "shell.execute_reply": "2022-02-20T02:42:15.377853Z",
     "shell.execute_reply.started": "2022-02-20T02:42:15.364947Z"
    }
   },
   "outputs": [],
   "source": [
    "pdf[['StockCode','Description']].drop_duplicates()"
   ]
  },
  {
   "cell_type": "code",
   "execution_count": 20,
   "metadata": {
    "execution": {
     "iopub.execute_input": "2022-02-20T02:42:15.380664Z",
     "iopub.status.busy": "2022-02-20T02:42:15.380156Z",
     "iopub.status.idle": "2022-02-20T02:42:15.386657Z",
     "shell.execute_reply": "2022-02-20T02:42:15.385933Z",
     "shell.execute_reply.started": "2022-02-20T02:42:15.380628Z"
    }
   },
   "outputs": [],
   "source": [
    "pdf.shape"
   ]
  },
  {
   "cell_type": "markdown",
   "metadata": {},
   "source": [
    "## Linear Regression"
   ]
  },
  {
   "cell_type": "code",
   "execution_count": 21,
   "metadata": {
    "execution": {
     "iopub.execute_input": "2022-02-20T02:42:15.389387Z",
     "iopub.status.busy": "2022-02-20T02:42:15.388852Z",
     "iopub.status.idle": "2022-02-20T02:42:17.030019Z",
     "shell.execute_reply": "2022-02-20T02:42:17.029089Z",
     "shell.execute_reply.started": "2022-02-20T02:42:15.389342Z"
    }
   },
   "outputs": [],
   "source": [
    "import statsmodels.api as sm\n"
   ]
  },
  {
   "cell_type": "code",
   "execution_count": 22,
   "metadata": {
    "execution": {
     "iopub.execute_input": "2022-02-20T02:42:17.031664Z",
     "iopub.status.busy": "2022-02-20T02:42:17.031360Z",
     "iopub.status.idle": "2022-02-20T02:42:17.085575Z",
     "shell.execute_reply": "2022-02-20T02:42:17.084952Z",
     "shell.execute_reply.started": "2022-02-20T02:42:17.031626Z"
    }
   },
   "outputs": [],
   "source": [
    "results_values = {\n",
    "    \"name\": [],\n",
    "    \"price_elasticity\": [],\n",
    "    \"price_mean\": [],\n",
    "    \"quantity_mean\": [],\n",
    "    \"intercept\": [],\n",
    "    \"t_score\":[],\n",
    "    \"slope\": [],\n",
    "    \"coefficient_pvalue\" : [],\n",
    "}\n",
    "for item in prodList:\n",
    "    itemDf = pdf[pdf['StockCode']==item]\n",
    "    \n",
    "    x = itemDf['UnitPrice']\n",
    "    y = itemDf['Quantity']\n",
    "    X = sm.add_constant(x)\n",
    "    model = sm.OLS(y, X)\n",
    "    result = model.fit()\n",
    "    \n",
    "    if result.f_pvalue < 0.05:        \n",
    "        rsquared = result.rsquared\n",
    "        coefficient_pvalue = result.f_pvalue\n",
    "        intercept, slope = result.params\n",
    "        mean_price = np.mean(x)\n",
    "        mean_quantity = np.mean(y)\n",
    "        tintercept, t_score = result.tvalues\n",
    "        price_elasticity = (slope)*(mean_price/mean_quantity)  \n",
    "        \n",
    "        results_values[\"name\"].append(item)\n",
    "        results_values[\"price_elasticity\"].append(price_elasticity)\n",
    "        results_values[\"price_mean\"].append(mean_price)\n",
    "        results_values[\"quantity_mean\"].append(mean_quantity)\n",
    "        results_values[\"intercept\"].append(intercept)\n",
    "        results_values['t_score'].append(t_score)\n",
    "        results_values[\"slope\"].append(slope)\n",
    "        results_values[\"coefficient_pvalue\"].append(coefficient_pvalue)\n",
    "    \n",
    "elasDf = pd.DataFrame.from_dict(results_values)\n",
    "\n",
    "    "
   ]
  },
  {
   "cell_type": "code",
   "execution_count": 23,
   "metadata": {
    "execution": {
     "iopub.execute_input": "2022-02-20T02:42:17.087288Z",
     "iopub.status.busy": "2022-02-20T02:42:17.086819Z",
     "iopub.status.idle": "2022-02-20T02:42:17.101786Z",
     "shell.execute_reply": "2022-02-20T02:42:17.101232Z",
     "shell.execute_reply.started": "2022-02-20T02:42:17.087247Z"
    }
   },
   "outputs": [],
   "source": [
    "elasDf"
   ]
  },
  {
   "cell_type": "markdown",
   "metadata": {},
   "source": [
    "## Price Optimisation"
   ]
  },
  {
   "cell_type": "markdown",
   "metadata": {},
   "source": [
    "Based on the above demand equation, we will quantify revenue as a function of price. Assuming constant marginal cost of item, we will derive Profit as a function of price. We then optimize profit subject to constaints such as price lower and upper bounds, product mix etc. We have few optimization packages to chose from such as scipy, PuLP, Gurobi."
   ]
  }
 ],
 "metadata": {
  "kernelspec": {
   "display_name": "Python 3",
   "language": "python",
   "name": "python3"
  },
  "language_info": {
   "codemirror_mode": {
    "name": "ipython",
    "version": 3
   },
   "file_extension": ".py",
   "mimetype": "text/x-python",
   "name": "python",
   "nbconvert_exporter": "python",
   "pygments_lexer": "ipython3",
   "version": "3.7.4"
  }
 },
 "nbformat": 4,
 "nbformat_minor": 4
}
